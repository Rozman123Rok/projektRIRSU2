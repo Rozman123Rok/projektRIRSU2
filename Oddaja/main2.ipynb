{
 "cells": [
  {
   "cell_type": "code",
   "execution_count": 1,
   "metadata": {},
   "outputs": [],
   "source": [
    "# knjiznice\n",
    "import pandas as pd\n",
    "from sklearn.experimental import enable_iterative_imputer\n",
    "from sklearn.impute import IterativeImputer\n",
    "import numpy as np\n",
    "from sklearn.feature_selection import mutual_info_regression\n",
    "from sklearn.model_selection import train_test_split\n",
    "from sklearn.preprocessing import StandardScaler\n",
    "from keras.models import Sequential\n",
    "from keras.layers import LSTM, Dense\n",
    "from keras.layers import Dropout\n",
    "from tensorflow.keras.callbacks import ModelCheckpoint\n",
    "from tensorflow.keras.models import load_model\n",
    "from sklearn.metrics import mean_absolute_error, mean_squared_error, explained_variance_score\n",
    "import matplotlib.pyplot as plt"
   ]
  },
  {
   "cell_type": "code",
   "execution_count": 2,
   "metadata": {},
   "outputs": [],
   "source": [
    "# spremenljivke za testiranje\n",
    "st_izbranih_znacilnic = 10\n",
    "st_zaporednih = 504\n",
    "st_napovedi = 1"
   ]
  },
  {
   "cell_type": "code",
   "execution_count": 3,
   "metadata": {},
   "outputs": [],
   "source": [
    "# branje podatkov iz datoteke\n",
    "df = pd.read_excel('iir_podatkovna_zbirka.xlsx')"
   ]
  },
  {
   "cell_type": "code",
   "execution_count": 4,
   "metadata": {},
   "outputs": [],
   "source": [
    "# pretvorimo time v datetime, sort by time da imamo zaporedje in drop time da ne ovira\n",
    "df['time'] = pd.to_datetime(df['time'])\n",
    "df.sort_values(by='time', inplace=True)\n",
    "df = df.drop(['time'], axis=1)"
   ]
  },
  {
   "cell_type": "code",
   "execution_count": 5,
   "metadata": {},
   "outputs": [],
   "source": [
    "# zapolnimo missing data \n",
    "def zapolni_podatke(df):\n",
    "    imp = IterativeImputer()\n",
    "    imp.fit(df)\n",
    "    temp_df = imp.transform(df)\n",
    "    df = pd.DataFrame(temp_df, columns=df.columns)\n",
    "    return df"
   ]
  },
  {
   "cell_type": "code",
   "execution_count": 6,
   "metadata": {},
   "outputs": [
    {
     "data": {
      "text/html": [
       "<div>\n",
       "<style scoped>\n",
       "    .dataframe tbody tr th:only-of-type {\n",
       "        vertical-align: middle;\n",
       "    }\n",
       "\n",
       "    .dataframe tbody tr th {\n",
       "        vertical-align: top;\n",
       "    }\n",
       "\n",
       "    .dataframe thead th {\n",
       "        text-align: right;\n",
       "    }\n",
       "</style>\n",
       "<table border=\"1\" class=\"dataframe\">\n",
       "  <thead>\n",
       "    <tr style=\"text-align: right;\">\n",
       "      <th></th>\n",
       "      <th>Unnamed: 0</th>\n",
       "      <th>global energy</th>\n",
       "      <th>diffusive energy</th>\n",
       "      <th>mean T</th>\n",
       "      <th>min T</th>\n",
       "      <th>max T</th>\n",
       "      <th>T</th>\n",
       "      <th>precipitation</th>\n",
       "      <th>mean pressure</th>\n",
       "      <th>min pressure</th>\n",
       "      <th>max pressure</th>\n",
       "      <th>mean rel. hum.</th>\n",
       "      <th>min rel. hum.</th>\n",
       "      <th>max rel. hum.</th>\n",
       "      <th>rel. hum.</th>\n",
       "      <th>wind speed</th>\n",
       "      <th>wind direction</th>\n",
       "      <th>max gust</th>\n",
       "    </tr>\n",
       "  </thead>\n",
       "  <tbody>\n",
       "    <tr>\n",
       "      <th>0</th>\n",
       "      <td>288911.0</td>\n",
       "      <td>0.000000</td>\n",
       "      <td>0.000000</td>\n",
       "      <td>-0.6</td>\n",
       "      <td>-0.7</td>\n",
       "      <td>-0.5</td>\n",
       "      <td>-0.7</td>\n",
       "      <td>0.000000</td>\n",
       "      <td>948.0</td>\n",
       "      <td>948.0</td>\n",
       "      <td>948.0</td>\n",
       "      <td>34.0</td>\n",
       "      <td>34.0</td>\n",
       "      <td>35.0</td>\n",
       "      <td>35.0</td>\n",
       "      <td>2.6</td>\n",
       "      <td>6.0</td>\n",
       "      <td>2.9</td>\n",
       "    </tr>\n",
       "    <tr>\n",
       "      <th>1</th>\n",
       "      <td>125241.0</td>\n",
       "      <td>47.814247</td>\n",
       "      <td>-3.283533</td>\n",
       "      <td>-0.7</td>\n",
       "      <td>-0.8</td>\n",
       "      <td>-0.6</td>\n",
       "      <td>-0.8</td>\n",
       "      <td>-0.231041</td>\n",
       "      <td>948.0</td>\n",
       "      <td>948.0</td>\n",
       "      <td>948.0</td>\n",
       "      <td>35.0</td>\n",
       "      <td>34.0</td>\n",
       "      <td>35.0</td>\n",
       "      <td>35.0</td>\n",
       "      <td>2.6</td>\n",
       "      <td>8.0</td>\n",
       "      <td>2.9</td>\n",
       "    </tr>\n",
       "    <tr>\n",
       "      <th>2</th>\n",
       "      <td>15657.0</td>\n",
       "      <td>53.940140</td>\n",
       "      <td>0.228771</td>\n",
       "      <td>-1.0</td>\n",
       "      <td>-1.0</td>\n",
       "      <td>-0.8</td>\n",
       "      <td>-1.0</td>\n",
       "      <td>-0.214562</td>\n",
       "      <td>948.0</td>\n",
       "      <td>948.0</td>\n",
       "      <td>948.0</td>\n",
       "      <td>36.0</td>\n",
       "      <td>35.0</td>\n",
       "      <td>36.0</td>\n",
       "      <td>36.0</td>\n",
       "      <td>2.4</td>\n",
       "      <td>14.0</td>\n",
       "      <td>2.7</td>\n",
       "    </tr>\n",
       "    <tr>\n",
       "      <th>3</th>\n",
       "      <td>66656.0</td>\n",
       "      <td>0.000000</td>\n",
       "      <td>0.000000</td>\n",
       "      <td>-0.8</td>\n",
       "      <td>-1.0</td>\n",
       "      <td>-0.7</td>\n",
       "      <td>-0.7</td>\n",
       "      <td>0.000000</td>\n",
       "      <td>948.0</td>\n",
       "      <td>948.0</td>\n",
       "      <td>948.0</td>\n",
       "      <td>35.0</td>\n",
       "      <td>35.0</td>\n",
       "      <td>36.0</td>\n",
       "      <td>35.0</td>\n",
       "      <td>2.0</td>\n",
       "      <td>24.0</td>\n",
       "      <td>2.4</td>\n",
       "    </tr>\n",
       "    <tr>\n",
       "      <th>4</th>\n",
       "      <td>182713.0</td>\n",
       "      <td>113.510726</td>\n",
       "      <td>13.932471</td>\n",
       "      <td>-0.7</td>\n",
       "      <td>-0.7</td>\n",
       "      <td>-0.6</td>\n",
       "      <td>-0.7</td>\n",
       "      <td>-0.235367</td>\n",
       "      <td>948.0</td>\n",
       "      <td>948.0</td>\n",
       "      <td>948.0</td>\n",
       "      <td>34.0</td>\n",
       "      <td>33.0</td>\n",
       "      <td>35.0</td>\n",
       "      <td>33.0</td>\n",
       "      <td>1.9</td>\n",
       "      <td>23.0</td>\n",
       "      <td>2.2</td>\n",
       "    </tr>\n",
       "    <tr>\n",
       "      <th>...</th>\n",
       "      <td>...</td>\n",
       "      <td>...</td>\n",
       "      <td>...</td>\n",
       "      <td>...</td>\n",
       "      <td>...</td>\n",
       "      <td>...</td>\n",
       "      <td>...</td>\n",
       "      <td>...</td>\n",
       "      <td>...</td>\n",
       "      <td>...</td>\n",
       "      <td>...</td>\n",
       "      <td>...</td>\n",
       "      <td>...</td>\n",
       "      <td>...</td>\n",
       "      <td>...</td>\n",
       "      <td>...</td>\n",
       "      <td>...</td>\n",
       "      <td>...</td>\n",
       "    </tr>\n",
       "    <tr>\n",
       "      <th>311035</th>\n",
       "      <td>3154.0</td>\n",
       "      <td>-57.196301</td>\n",
       "      <td>6.752438</td>\n",
       "      <td>-0.1</td>\n",
       "      <td>-0.1</td>\n",
       "      <td>-0.1</td>\n",
       "      <td>-0.1</td>\n",
       "      <td>0.104461</td>\n",
       "      <td>941.0</td>\n",
       "      <td>941.0</td>\n",
       "      <td>941.0</td>\n",
       "      <td>97.0</td>\n",
       "      <td>96.0</td>\n",
       "      <td>98.0</td>\n",
       "      <td>97.0</td>\n",
       "      <td>5.3</td>\n",
       "      <td>29.0</td>\n",
       "      <td>7.8</td>\n",
       "    </tr>\n",
       "    <tr>\n",
       "      <th>311036</th>\n",
       "      <td>109931.0</td>\n",
       "      <td>-71.929606</td>\n",
       "      <td>0.029726</td>\n",
       "      <td>-0.1</td>\n",
       "      <td>-0.2</td>\n",
       "      <td>-0.1</td>\n",
       "      <td>-0.2</td>\n",
       "      <td>0.116828</td>\n",
       "      <td>941.0</td>\n",
       "      <td>941.0</td>\n",
       "      <td>941.0</td>\n",
       "      <td>97.0</td>\n",
       "      <td>97.0</td>\n",
       "      <td>98.0</td>\n",
       "      <td>97.0</td>\n",
       "      <td>5.1</td>\n",
       "      <td>25.0</td>\n",
       "      <td>7.6</td>\n",
       "    </tr>\n",
       "    <tr>\n",
       "      <th>311037</th>\n",
       "      <td>31904.0</td>\n",
       "      <td>0.000000</td>\n",
       "      <td>0.000000</td>\n",
       "      <td>-0.2</td>\n",
       "      <td>-0.2</td>\n",
       "      <td>-0.2</td>\n",
       "      <td>-0.2</td>\n",
       "      <td>0.200000</td>\n",
       "      <td>941.0</td>\n",
       "      <td>941.0</td>\n",
       "      <td>941.0</td>\n",
       "      <td>97.0</td>\n",
       "      <td>96.0</td>\n",
       "      <td>98.0</td>\n",
       "      <td>97.0</td>\n",
       "      <td>5.7</td>\n",
       "      <td>29.0</td>\n",
       "      <td>8.0</td>\n",
       "    </tr>\n",
       "    <tr>\n",
       "      <th>311038</th>\n",
       "      <td>154759.0</td>\n",
       "      <td>-59.744355</td>\n",
       "      <td>7.282170</td>\n",
       "      <td>-0.2</td>\n",
       "      <td>-0.2</td>\n",
       "      <td>-0.2</td>\n",
       "      <td>-0.2</td>\n",
       "      <td>0.121172</td>\n",
       "      <td>941.0</td>\n",
       "      <td>941.0</td>\n",
       "      <td>941.0</td>\n",
       "      <td>97.0</td>\n",
       "      <td>96.0</td>\n",
       "      <td>98.0</td>\n",
       "      <td>97.0</td>\n",
       "      <td>5.1</td>\n",
       "      <td>29.0</td>\n",
       "      <td>7.8</td>\n",
       "    </tr>\n",
       "    <tr>\n",
       "      <th>311039</th>\n",
       "      <td>229588.0</td>\n",
       "      <td>-60.646214</td>\n",
       "      <td>7.586526</td>\n",
       "      <td>-0.2</td>\n",
       "      <td>-0.2</td>\n",
       "      <td>-0.2</td>\n",
       "      <td>-0.2</td>\n",
       "      <td>0.128601</td>\n",
       "      <td>941.0</td>\n",
       "      <td>941.0</td>\n",
       "      <td>941.0</td>\n",
       "      <td>97.0</td>\n",
       "      <td>96.0</td>\n",
       "      <td>98.0</td>\n",
       "      <td>97.0</td>\n",
       "      <td>5.2</td>\n",
       "      <td>30.0</td>\n",
       "      <td>8.1</td>\n",
       "    </tr>\n",
       "  </tbody>\n",
       "</table>\n",
       "<p>311040 rows × 18 columns</p>\n",
       "</div>"
      ],
      "text/plain": [
       "        Unnamed: 0  global energy  diffusive energy  mean T  min T  max T  \\\n",
       "0         288911.0       0.000000          0.000000    -0.6   -0.7   -0.5   \n",
       "1         125241.0      47.814247         -3.283533    -0.7   -0.8   -0.6   \n",
       "2          15657.0      53.940140          0.228771    -1.0   -1.0   -0.8   \n",
       "3          66656.0       0.000000          0.000000    -0.8   -1.0   -0.7   \n",
       "4         182713.0     113.510726         13.932471    -0.7   -0.7   -0.6   \n",
       "...            ...            ...               ...     ...    ...    ...   \n",
       "311035      3154.0     -57.196301          6.752438    -0.1   -0.1   -0.1   \n",
       "311036    109931.0     -71.929606          0.029726    -0.1   -0.2   -0.1   \n",
       "311037     31904.0       0.000000          0.000000    -0.2   -0.2   -0.2   \n",
       "311038    154759.0     -59.744355          7.282170    -0.2   -0.2   -0.2   \n",
       "311039    229588.0     -60.646214          7.586526    -0.2   -0.2   -0.2   \n",
       "\n",
       "          T  precipitation  mean pressure  min pressure  max pressure  \\\n",
       "0      -0.7       0.000000          948.0         948.0         948.0   \n",
       "1      -0.8      -0.231041          948.0         948.0         948.0   \n",
       "2      -1.0      -0.214562          948.0         948.0         948.0   \n",
       "3      -0.7       0.000000          948.0         948.0         948.0   \n",
       "4      -0.7      -0.235367          948.0         948.0         948.0   \n",
       "...     ...            ...            ...           ...           ...   \n",
       "311035 -0.1       0.104461          941.0         941.0         941.0   \n",
       "311036 -0.2       0.116828          941.0         941.0         941.0   \n",
       "311037 -0.2       0.200000          941.0         941.0         941.0   \n",
       "311038 -0.2       0.121172          941.0         941.0         941.0   \n",
       "311039 -0.2       0.128601          941.0         941.0         941.0   \n",
       "\n",
       "        mean rel. hum.  min rel. hum.  max rel. hum.  rel. hum.  wind speed  \\\n",
       "0                 34.0           34.0           35.0       35.0         2.6   \n",
       "1                 35.0           34.0           35.0       35.0         2.6   \n",
       "2                 36.0           35.0           36.0       36.0         2.4   \n",
       "3                 35.0           35.0           36.0       35.0         2.0   \n",
       "4                 34.0           33.0           35.0       33.0         1.9   \n",
       "...                ...            ...            ...        ...         ...   \n",
       "311035            97.0           96.0           98.0       97.0         5.3   \n",
       "311036            97.0           97.0           98.0       97.0         5.1   \n",
       "311037            97.0           96.0           98.0       97.0         5.7   \n",
       "311038            97.0           96.0           98.0       97.0         5.1   \n",
       "311039            97.0           96.0           98.0       97.0         5.2   \n",
       "\n",
       "        wind direction  max gust  \n",
       "0                  6.0       2.9  \n",
       "1                  8.0       2.9  \n",
       "2                 14.0       2.7  \n",
       "3                 24.0       2.4  \n",
       "4                 23.0       2.2  \n",
       "...                ...       ...  \n",
       "311035            29.0       7.8  \n",
       "311036            25.0       7.6  \n",
       "311037            29.0       8.0  \n",
       "311038            29.0       7.8  \n",
       "311039            30.0       8.1  \n",
       "\n",
       "[311040 rows x 18 columns]"
      ]
     },
     "execution_count": 6,
     "metadata": {},
     "output_type": "execute_result"
    }
   ],
   "source": [
    "df = zapolni_podatke(df)\n",
    "df"
   ]
  },
  {
   "cell_type": "code",
   "execution_count": 7,
   "metadata": {},
   "outputs": [
    {
     "data": {
      "text/plain": [
       "Unnamed: 0          0\n",
       "global energy       0\n",
       "diffusive energy    0\n",
       "mean T              0\n",
       "min T               0\n",
       "max T               0\n",
       "T                   0\n",
       "precipitation       0\n",
       "mean pressure       0\n",
       "min pressure        0\n",
       "max pressure        0\n",
       "mean rel. hum.      0\n",
       "min rel. hum.       0\n",
       "max rel. hum.       0\n",
       "rel. hum.           0\n",
       "wind speed          0\n",
       "wind direction      0\n",
       "max gust            0\n",
       "dtype: int64"
      ]
     },
     "execution_count": 7,
     "metadata": {},
     "output_type": "execute_result"
    }
   ],
   "source": [
    "df.isnull().sum()"
   ]
  },
  {
   "cell_type": "code",
   "execution_count": 8,
   "metadata": {},
   "outputs": [],
   "source": [
    "# locimo na podatke in vrednosti za napoved\n",
    "X = df.drop(['global energy'], axis=1)\n",
    "Y = df['global energy'].to_numpy()"
   ]
  },
  {
   "cell_type": "code",
   "execution_count": 9,
   "metadata": {},
   "outputs": [],
   "source": [
    "def izbira_znacilnic(X,Y,st_izbranih_znacilnic):\n",
    "    # izracunamo katere znacilnice vzeti\n",
    "    mutual_info = mutual_info_regression(X, Y)\n",
    "    izbrane = X.columns[np.argsort(mutual_info)[-st_izbranih_znacilnic:]]\n",
    "    return izbrane"
   ]
  },
  {
   "cell_type": "code",
   "execution_count": 10,
   "metadata": {},
   "outputs": [
    {
     "name": "stdout",
     "output_type": "stream",
     "text": [
      "Index(['min T', 'mean T', 'T', 'max T', 'max rel. hum.', 'mean rel. hum.',\n",
      "       'rel. hum.', 'min rel. hum.', 'precipitation', 'diffusive energy'],\n",
      "      dtype='object')\n"
     ]
    }
   ],
   "source": [
    "izbira = izbira_znacilnic(X,Y,st_izbranih_znacilnic)\n",
    "print(izbira)\n",
    "X = X[izbira]"
   ]
  },
  {
   "cell_type": "code",
   "execution_count": 11,
   "metadata": {},
   "outputs": [],
   "source": [
    "# split data na train in test\n",
    "X_train, X_test, Y_train, Y_test = train_test_split(X, Y, test_size=4032, shuffle=False)"
   ]
  },
  {
   "cell_type": "code",
   "execution_count": 15,
   "metadata": {},
   "outputs": [
    {
     "data": {
      "text/plain": [
       "array([[-1.29993339, -1.29920453, -1.31117411, ..., -2.08988789,\n",
       "        -0.23980037, -0.87063837],\n",
       "       [-1.31203589, -1.31125567, -1.32322445, ..., -2.08988789,\n",
       "        -1.0109885 , -0.92202998],\n",
       "       [-1.33624087, -1.34740908, -1.34732513, ..., -2.03655648,\n",
       "        -0.9559821 , -0.8670578 ],\n",
       "       ...,\n",
       "       [ 0.26128832,  0.25539215,  0.25537026, ...,  0.57668249,\n",
       "        -0.23980037, -0.87063837],\n",
       "       [ 0.27339081,  0.25539215,  0.25537026, ...,  0.6300139 ,\n",
       "        -0.05199383, -0.45998183],\n",
       "       [ 0.26128832,  0.25539215,  0.24331992, ...,  0.6833453 ,\n",
       "        -0.03982277, -0.5962654 ]])"
      ]
     },
     "execution_count": 15,
     "metadata": {},
     "output_type": "execute_result"
    }
   ],
   "source": [
    "X_train"
   ]
  },
  {
   "cell_type": "code",
   "execution_count": 16,
   "metadata": {},
   "outputs": [
    {
     "data": {
      "text/plain": [
       "array([[ 0.24918583,  0.24334101,  0.23126958, ...,  0.6833453 ,\n",
       "        -0.23980037, -0.87063837],\n",
       "       [ 0.24918583,  0.23128988,  0.23126958, ...,  0.6833453 ,\n",
       "         0.02554322, -0.40651853],\n",
       "       [ 0.24918583,  0.24334101,  0.24331992, ...,  0.6833453 ,\n",
       "         0.13107045, -0.48160751],\n",
       "       ...,\n",
       "       [-1.23942092, -1.25099998, -1.2509224 , ...,  1.21665938,\n",
       "         0.42777528, -0.87063837],\n",
       "       [-1.23942092, -1.25099998, -1.2509224 , ...,  1.21665938,\n",
       "         0.16465647, -0.75666285],\n",
       "       [-1.23942092, -1.25099998, -1.2509224 , ...,  1.21665938,\n",
       "         0.18945283, -0.75189928]])"
      ]
     },
     "execution_count": 16,
     "metadata": {},
     "output_type": "execute_result"
    }
   ],
   "source": [
    "X_test"
   ]
  },
  {
   "cell_type": "code",
   "execution_count": 12,
   "metadata": {},
   "outputs": [],
   "source": [
    "def standardizacija_podatkov(data1, data2):\n",
    "    scaler = StandardScaler()\n",
    "    return scaler.fit_transform(data1), scaler.transform(data2)"
   ]
  },
  {
   "cell_type": "code",
   "execution_count": 13,
   "metadata": {},
   "outputs": [],
   "source": [
    "X_train, X_test = standardizacija_podatkov(X_train, X_test)"
   ]
  },
  {
   "cell_type": "code",
   "execution_count": 17,
   "metadata": {},
   "outputs": [
    {
     "data": {
      "text/plain": [
       "array([[-1.29993339, -1.29920453, -1.31117411, ..., -2.08988789,\n",
       "        -0.23980037, -0.87063837],\n",
       "       [-1.31203589, -1.31125567, -1.32322445, ..., -2.08988789,\n",
       "        -1.0109885 , -0.92202998],\n",
       "       [-1.33624087, -1.34740908, -1.34732513, ..., -2.03655648,\n",
       "        -0.9559821 , -0.8670578 ],\n",
       "       ...,\n",
       "       [ 0.26128832,  0.25539215,  0.25537026, ...,  0.57668249,\n",
       "        -0.23980037, -0.87063837],\n",
       "       [ 0.27339081,  0.25539215,  0.25537026, ...,  0.6300139 ,\n",
       "        -0.05199383, -0.45998183],\n",
       "       [ 0.26128832,  0.25539215,  0.24331992, ...,  0.6833453 ,\n",
       "        -0.03982277, -0.5962654 ]])"
      ]
     },
     "execution_count": 17,
     "metadata": {},
     "output_type": "execute_result"
    }
   ],
   "source": [
    "X_train"
   ]
  },
  {
   "cell_type": "code",
   "execution_count": 18,
   "metadata": {},
   "outputs": [
    {
     "data": {
      "text/plain": [
       "array([[ 0.24918583,  0.24334101,  0.23126958, ...,  0.6833453 ,\n",
       "        -0.23980037, -0.87063837],\n",
       "       [ 0.24918583,  0.23128988,  0.23126958, ...,  0.6833453 ,\n",
       "         0.02554322, -0.40651853],\n",
       "       [ 0.24918583,  0.24334101,  0.24331992, ...,  0.6833453 ,\n",
       "         0.13107045, -0.48160751],\n",
       "       ...,\n",
       "       [-1.23942092, -1.25099998, -1.2509224 , ...,  1.21665938,\n",
       "         0.42777528, -0.87063837],\n",
       "       [-1.23942092, -1.25099998, -1.2509224 , ...,  1.21665938,\n",
       "         0.16465647, -0.75666285],\n",
       "       [-1.23942092, -1.25099998, -1.2509224 , ...,  1.21665938,\n",
       "         0.18945283, -0.75189928]])"
      ]
     },
     "execution_count": 18,
     "metadata": {},
     "output_type": "execute_result"
    }
   ],
   "source": [
    "X_test"
   ]
  },
  {
   "cell_type": "code",
   "execution_count": 19,
   "metadata": {},
   "outputs": [
    {
     "data": {
      "text/plain": [
       "(307008, 10)"
      ]
     },
     "execution_count": 19,
     "metadata": {},
     "output_type": "execute_result"
    }
   ],
   "source": [
    "X_train.shape"
   ]
  },
  {
   "cell_type": "code",
   "execution_count": 20,
   "metadata": {},
   "outputs": [
    {
     "data": {
      "text/plain": [
       "(307008,)"
      ]
     },
     "execution_count": 20,
     "metadata": {},
     "output_type": "execute_result"
    }
   ],
   "source": [
    "Y_train.shape"
   ]
  },
  {
   "cell_type": "code",
   "execution_count": 21,
   "metadata": {},
   "outputs": [],
   "source": [
    "def pripravi_timeseries(X, Y, st_zaporednih, st_napovedi):\n",
    "    dolzina = len(X) # x_train ali x_test\n",
    "\n",
    "    temp_X = []\n",
    "    temp_Y = []\n",
    "\n",
    "    for i in range(st_zaporednih, dolzina - st_napovedi + 1):\n",
    "        temp_X.append(X[i - st_zaporednih:i, :])\n",
    "        temp_Y.append(Y[i + st_napovedi - 1:i + st_napovedi])\n",
    "\n",
    "    return np.array(temp_X), np.array(temp_Y)\n"
   ]
  },
  {
   "cell_type": "code",
   "execution_count": 22,
   "metadata": {},
   "outputs": [],
   "source": [
    "X_train, Y_train = pripravi_timeseries(X_train, Y_train, st_zaporednih, st_napovedi)\n",
    "X_test, Y_test = pripravi_timeseries(X_test, Y_test, st_zaporednih, st_napovedi)"
   ]
  },
  {
   "cell_type": "code",
   "execution_count": 23,
   "metadata": {},
   "outputs": [
    {
     "name": "stdout",
     "output_type": "stream",
     "text": [
      "(306504, 504, 10)\n",
      "(306504, 1)\n",
      "(3528, 504, 10)\n",
      "(3528, 1)\n"
     ]
    }
   ],
   "source": [
    "print(X_train.shape)\n",
    "print(Y_train.shape)\n",
    "print(X_test.shape)\n",
    "print(Y_test.shape)"
   ]
  },
  {
   "cell_type": "code",
   "execution_count": 24,
   "metadata": {},
   "outputs": [
    {
     "name": "stdout",
     "output_type": "stream",
     "text": [
      "Model: \"sequential\"\n",
      "_________________________________________________________________\n",
      " Layer (type)                Output Shape              Param #   \n",
      "=================================================================\n",
      " lstm (LSTM)                 (None, 504, 128)          71168     \n",
      "                                                                 \n",
      " lstm_1 (LSTM)               (None, 64)                49408     \n",
      "                                                                 \n",
      " dropout (Dropout)           (None, 64)                0         \n",
      "                                                                 \n",
      " dense (Dense)               (None, 1)                 65        \n",
      "                                                                 \n",
      "=================================================================\n",
      "Total params: 120,641\n",
      "Trainable params: 120,641\n",
      "Non-trainable params: 0\n",
      "_________________________________________________________________\n"
     ]
    }
   ],
   "source": [
    "# pripravimo model\n",
    "model = Sequential()\n",
    "model.add(LSTM(128, input_shape=(st_zaporednih, st_izbranih_znacilnic), return_sequences=True))\n",
    "model.add(LSTM(64, return_sequences=False))\n",
    "model.add(Dropout(0.2))\n",
    "model.add(Dense(Y_train.shape[1]))\n",
    "\n",
    "cp = ModelCheckpoint('model/', save_best_only=True)\n",
    "model.compile(optimizer='adam', loss='mse')\n",
    "model.summary()"
   ]
  },
  {
   "cell_type": "code",
   "execution_count": null,
   "metadata": {},
   "outputs": [],
   "source": [
    "# fit model nad pripravljenimi podatki\n",
    "model.fit(X_train, Y_train, epochs=20, steps_per_epoch=500, validation_data=(X_test, Y_test), batch_size=64,callbacks=[cp])\n",
    "\n",
    "# si nalozimo najboljsi model ki je bil v 20 epochs\n",
    "model = load_model('model/')\n",
    "\n",
    "# si shranimo model v datoteko da ga lahko kasneje nalozimo in uporabimo\n",
    "model.save('model.h5')"
   ]
  },
  {
   "cell_type": "code",
   "execution_count": null,
   "metadata": {},
   "outputs": [],
   "source": [
    "# validacija modela\n",
    "pred = model.predict(X_test)\n",
    "res = model.evaluate(X_test, Y_test, verbose=0)\n",
    "print(\"test loss: \")\n",
    "print(res)\n",
    "\n",
    "# povprečna absolutna napaka\n",
    "pan = mean_absolute_error(Y_test, pred)\n",
    "print(\"povprecna abs napaka\")\n",
    "print(pan)\n",
    "\n",
    "# povprečna kvadratna napaka\n",
    "pkn = mean_squared_error(Y_test, pred)\n",
    "print(\"povprecna kvadratna napaka\")\n",
    "print(pkn)\n",
    "\n",
    "# vrednost razložene variance\n",
    "vrv = explained_variance_score(Y_test, pred)\n",
    "print(\"vrednost razlozene variance\")\n",
    "print(vrv)\n",
    "\n",
    "# prikaz grafa\n",
    "plt.plot(Y_test, label='realne vrednosti')\n",
    "plt.plot(pred, label='napovedi')\n",
    "plt.legend()\n",
    "plt.show()\n"
   ]
  }
 ],
 "metadata": {
  "kernelspec": {
   "display_name": "projektRIRSU",
   "language": "python",
   "name": "python3"
  },
  "language_info": {
   "codemirror_mode": {
    "name": "ipython",
    "version": 3
   },
   "file_extension": ".py",
   "mimetype": "text/x-python",
   "name": "python",
   "nbconvert_exporter": "python",
   "pygments_lexer": "ipython3",
   "version": "3.9.16"
  },
  "orig_nbformat": 4,
  "vscode": {
   "interpreter": {
    "hash": "c33ade039063ef4594a6966605839d5d3050ce4b8c2ddf941fca2329938280eb"
   }
  }
 },
 "nbformat": 4,
 "nbformat_minor": 2
}
