{
 "cells": [
  {
   "attachments": {},
   "cell_type": "markdown",
   "metadata": {},
   "source": [
    "# Projektna naloga RIRSU\n",
    "\n",
    "Datoteka za ucenje\n",
    "\n",
    "---\n",
    "\n",
    "Rok Rozman"
   ]
  },
  {
   "cell_type": "code",
   "execution_count": null,
   "metadata": {},
   "outputs": [],
   "source": []
  }
 ],
 "metadata": {
  "kernelspec": {
   "display_name": "Python 3",
   "language": "python",
   "name": "python3"
  },
  "language_info": {
   "name": "python",
   "version": "3.7.9 (tags/v3.7.9:13c94747c7, Aug 17 2020, 16:30:00) [MSC v.1900 64 bit (AMD64)]"
  },
  "orig_nbformat": 4,
  "vscode": {
   "interpreter": {
    "hash": "95025054f8375689e2f08bdde96334ba9e9421dc36be7d0df259fa6c151b8eee"
   }
  }
 },
 "nbformat": 4,
 "nbformat_minor": 2
}
