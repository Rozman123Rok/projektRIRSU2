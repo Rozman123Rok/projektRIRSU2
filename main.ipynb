{
 "cells": [
  {
   "cell_type": "code",
   "execution_count": 1,
   "metadata": {},
   "outputs": [],
   "source": [
    "import numpy as np\n",
    "import pandas as pd\n",
    "from sklearn.feature_selection import mutual_info_regression\n",
    "from keras.models import Sequential\n",
    "from keras.layers import LSTM, Dense\n",
    "from keras.callbacks import EarlyStopping\n",
    "from keras.layers import Dropout\n",
    "from sklearn.experimental import enable_iterative_imputer\n",
    "from sklearn.impute import IterativeImputer\n",
    "from sklearn.model_selection import train_test_split\n",
    "from sklearn.preprocessing import StandardScaler\n",
    "from sklearn.metrics import mean_absolute_error, mean_squared_error, explained_variance_score\n",
    "import matplotlib.pyplot as plt"
   ]
  },
  {
   "cell_type": "code",
   "execution_count": 2,
   "metadata": {},
   "outputs": [
    {
     "data": {
      "text/html": [
       "<div>\n",
       "<style scoped>\n",
       "    .dataframe tbody tr th:only-of-type {\n",
       "        vertical-align: middle;\n",
       "    }\n",
       "\n",
       "    .dataframe tbody tr th {\n",
       "        vertical-align: top;\n",
       "    }\n",
       "\n",
       "    .dataframe thead th {\n",
       "        text-align: right;\n",
       "    }\n",
       "</style>\n",
       "<table border=\"1\" class=\"dataframe\">\n",
       "  <thead>\n",
       "    <tr style=\"text-align: right;\">\n",
       "      <th></th>\n",
       "      <th>Unnamed: 0</th>\n",
       "      <th>time</th>\n",
       "      <th>global energy</th>\n",
       "      <th>diffusive energy</th>\n",
       "      <th>mean T</th>\n",
       "      <th>min T</th>\n",
       "      <th>max T</th>\n",
       "      <th>T</th>\n",
       "      <th>precipitation</th>\n",
       "      <th>mean pressure</th>\n",
       "      <th>min pressure</th>\n",
       "      <th>max pressure</th>\n",
       "      <th>mean rel. hum.</th>\n",
       "      <th>min rel. hum.</th>\n",
       "      <th>max rel. hum.</th>\n",
       "      <th>rel. hum.</th>\n",
       "      <th>wind speed</th>\n",
       "      <th>wind direction</th>\n",
       "      <th>max gust</th>\n",
       "    </tr>\n",
       "  </thead>\n",
       "  <tbody>\n",
       "    <tr>\n",
       "      <th>0</th>\n",
       "      <td>0</td>\n",
       "      <td>2019-03-20 19:30:00</td>\n",
       "      <td>0.0</td>\n",
       "      <td>0.0</td>\n",
       "      <td>3.1</td>\n",
       "      <td>3.0</td>\n",
       "      <td>3.3</td>\n",
       "      <td>3.2</td>\n",
       "      <td>0.0</td>\n",
       "      <td>953.0</td>\n",
       "      <td>953.0</td>\n",
       "      <td>953.0</td>\n",
       "      <td>50.0</td>\n",
       "      <td>49.0</td>\n",
       "      <td>51.0</td>\n",
       "      <td>50.0</td>\n",
       "      <td>2.8</td>\n",
       "      <td>40.0</td>\n",
       "      <td>5.1</td>\n",
       "    </tr>\n",
       "    <tr>\n",
       "      <th>1</th>\n",
       "      <td>1</td>\n",
       "      <td>2022-04-16 15:50:00</td>\n",
       "      <td>NaN</td>\n",
       "      <td>NaN</td>\n",
       "      <td>9.4</td>\n",
       "      <td>9.2</td>\n",
       "      <td>9.6</td>\n",
       "      <td>9.2</td>\n",
       "      <td>NaN</td>\n",
       "      <td>942.0</td>\n",
       "      <td>942.0</td>\n",
       "      <td>943.0</td>\n",
       "      <td>63.0</td>\n",
       "      <td>61.0</td>\n",
       "      <td>66.0</td>\n",
       "      <td>62.0</td>\n",
       "      <td>3.1</td>\n",
       "      <td>29.0</td>\n",
       "      <td>6.3</td>\n",
       "    </tr>\n",
       "    <tr>\n",
       "      <th>2</th>\n",
       "      <td>2</td>\n",
       "      <td>2017-01-29 02:00:00</td>\n",
       "      <td>0.0</td>\n",
       "      <td>0.0</td>\n",
       "      <td>-7.4</td>\n",
       "      <td>-8.1</td>\n",
       "      <td>-7.0</td>\n",
       "      <td>-7.1</td>\n",
       "      <td>0.0</td>\n",
       "      <td>944.0</td>\n",
       "      <td>944.0</td>\n",
       "      <td>944.0</td>\n",
       "      <td>94.0</td>\n",
       "      <td>92.0</td>\n",
       "      <td>97.0</td>\n",
       "      <td>95.0</td>\n",
       "      <td>1.0</td>\n",
       "      <td>190.0</td>\n",
       "      <td>1.5</td>\n",
       "    </tr>\n",
       "    <tr>\n",
       "      <th>3</th>\n",
       "      <td>3</td>\n",
       "      <td>2021-10-09 07:20:00</td>\n",
       "      <td>NaN</td>\n",
       "      <td>NaN</td>\n",
       "      <td>5.4</td>\n",
       "      <td>5.3</td>\n",
       "      <td>5.6</td>\n",
       "      <td>5.6</td>\n",
       "      <td>NaN</td>\n",
       "      <td>946.0</td>\n",
       "      <td>946.0</td>\n",
       "      <td>947.0</td>\n",
       "      <td>81.0</td>\n",
       "      <td>80.0</td>\n",
       "      <td>83.0</td>\n",
       "      <td>80.0</td>\n",
       "      <td>5.4</td>\n",
       "      <td>47.0</td>\n",
       "      <td>8.6</td>\n",
       "    </tr>\n",
       "    <tr>\n",
       "      <th>4</th>\n",
       "      <td>4</td>\n",
       "      <td>2019-11-15 06:20:00</td>\n",
       "      <td>NaN</td>\n",
       "      <td>NaN</td>\n",
       "      <td>3.9</td>\n",
       "      <td>3.9</td>\n",
       "      <td>4.0</td>\n",
       "      <td>3.9</td>\n",
       "      <td>NaN</td>\n",
       "      <td>931.0</td>\n",
       "      <td>931.0</td>\n",
       "      <td>931.0</td>\n",
       "      <td>98.0</td>\n",
       "      <td>97.0</td>\n",
       "      <td>99.0</td>\n",
       "      <td>98.0</td>\n",
       "      <td>2.7</td>\n",
       "      <td>11.0</td>\n",
       "      <td>3.4</td>\n",
       "    </tr>\n",
       "    <tr>\n",
       "      <th>...</th>\n",
       "      <td>...</td>\n",
       "      <td>...</td>\n",
       "      <td>...</td>\n",
       "      <td>...</td>\n",
       "      <td>...</td>\n",
       "      <td>...</td>\n",
       "      <td>...</td>\n",
       "      <td>...</td>\n",
       "      <td>...</td>\n",
       "      <td>...</td>\n",
       "      <td>...</td>\n",
       "      <td>...</td>\n",
       "      <td>...</td>\n",
       "      <td>...</td>\n",
       "      <td>...</td>\n",
       "      <td>...</td>\n",
       "      <td>...</td>\n",
       "      <td>...</td>\n",
       "      <td>...</td>\n",
       "    </tr>\n",
       "    <tr>\n",
       "      <th>311035</th>\n",
       "      <td>311035</td>\n",
       "      <td>2022-09-13 22:00:00</td>\n",
       "      <td>0.0</td>\n",
       "      <td>0.0</td>\n",
       "      <td>16.3</td>\n",
       "      <td>16.2</td>\n",
       "      <td>16.4</td>\n",
       "      <td>16.2</td>\n",
       "      <td>0.0</td>\n",
       "      <td>936.0</td>\n",
       "      <td>936.0</td>\n",
       "      <td>936.0</td>\n",
       "      <td>86.0</td>\n",
       "      <td>85.0</td>\n",
       "      <td>86.0</td>\n",
       "      <td>86.0</td>\n",
       "      <td>4.6</td>\n",
       "      <td>201.0</td>\n",
       "      <td>7.2</td>\n",
       "    </tr>\n",
       "    <tr>\n",
       "      <th>311036</th>\n",
       "      <td>311036</td>\n",
       "      <td>2019-09-20 17:40:00</td>\n",
       "      <td>NaN</td>\n",
       "      <td>NaN</td>\n",
       "      <td>11.3</td>\n",
       "      <td>11.3</td>\n",
       "      <td>11.4</td>\n",
       "      <td>11.3</td>\n",
       "      <td>NaN</td>\n",
       "      <td>948.0</td>\n",
       "      <td>948.0</td>\n",
       "      <td>948.0</td>\n",
       "      <td>59.0</td>\n",
       "      <td>57.0</td>\n",
       "      <td>61.0</td>\n",
       "      <td>59.0</td>\n",
       "      <td>1.5</td>\n",
       "      <td>56.0</td>\n",
       "      <td>2.5</td>\n",
       "    </tr>\n",
       "    <tr>\n",
       "      <th>311037</th>\n",
       "      <td>311037</td>\n",
       "      <td>2022-08-28 12:30:00</td>\n",
       "      <td>528.0</td>\n",
       "      <td>299.0</td>\n",
       "      <td>23.0</td>\n",
       "      <td>22.8</td>\n",
       "      <td>23.2</td>\n",
       "      <td>22.9</td>\n",
       "      <td>0.0</td>\n",
       "      <td>938.0</td>\n",
       "      <td>938.0</td>\n",
       "      <td>938.0</td>\n",
       "      <td>61.0</td>\n",
       "      <td>56.0</td>\n",
       "      <td>66.0</td>\n",
       "      <td>63.0</td>\n",
       "      <td>2.0</td>\n",
       "      <td>193.0</td>\n",
       "      <td>3.3</td>\n",
       "    </tr>\n",
       "    <tr>\n",
       "      <th>311038</th>\n",
       "      <td>311038</td>\n",
       "      <td>2021-03-06 22:40:00</td>\n",
       "      <td>NaN</td>\n",
       "      <td>NaN</td>\n",
       "      <td>-1.6</td>\n",
       "      <td>-1.7</td>\n",
       "      <td>-1.5</td>\n",
       "      <td>-1.7</td>\n",
       "      <td>NaN</td>\n",
       "      <td>950.0</td>\n",
       "      <td>950.0</td>\n",
       "      <td>950.0</td>\n",
       "      <td>48.0</td>\n",
       "      <td>48.0</td>\n",
       "      <td>48.0</td>\n",
       "      <td>48.0</td>\n",
       "      <td>0.6</td>\n",
       "      <td>320.0</td>\n",
       "      <td>1.0</td>\n",
       "    </tr>\n",
       "    <tr>\n",
       "      <th>311039</th>\n",
       "      <td>311039</td>\n",
       "      <td>2020-03-31 09:40:00</td>\n",
       "      <td>NaN</td>\n",
       "      <td>NaN</td>\n",
       "      <td>0.2</td>\n",
       "      <td>0.1</td>\n",
       "      <td>0.3</td>\n",
       "      <td>0.2</td>\n",
       "      <td>NaN</td>\n",
       "      <td>944.0</td>\n",
       "      <td>944.0</td>\n",
       "      <td>944.0</td>\n",
       "      <td>54.0</td>\n",
       "      <td>50.0</td>\n",
       "      <td>58.0</td>\n",
       "      <td>54.0</td>\n",
       "      <td>5.0</td>\n",
       "      <td>32.0</td>\n",
       "      <td>7.8</td>\n",
       "    </tr>\n",
       "  </tbody>\n",
       "</table>\n",
       "<p>311040 rows × 19 columns</p>\n",
       "</div>"
      ],
      "text/plain": [
       "        Unnamed: 0                time  global energy  diffusive energy  \\\n",
       "0                0 2019-03-20 19:30:00            0.0               0.0   \n",
       "1                1 2022-04-16 15:50:00            NaN               NaN   \n",
       "2                2 2017-01-29 02:00:00            0.0               0.0   \n",
       "3                3 2021-10-09 07:20:00            NaN               NaN   \n",
       "4                4 2019-11-15 06:20:00            NaN               NaN   \n",
       "...            ...                 ...            ...               ...   \n",
       "311035      311035 2022-09-13 22:00:00            0.0               0.0   \n",
       "311036      311036 2019-09-20 17:40:00            NaN               NaN   \n",
       "311037      311037 2022-08-28 12:30:00          528.0             299.0   \n",
       "311038      311038 2021-03-06 22:40:00            NaN               NaN   \n",
       "311039      311039 2020-03-31 09:40:00            NaN               NaN   \n",
       "\n",
       "        mean T  min T  max T     T  precipitation  mean pressure  \\\n",
       "0          3.1    3.0    3.3   3.2            0.0          953.0   \n",
       "1          9.4    9.2    9.6   9.2            NaN          942.0   \n",
       "2         -7.4   -8.1   -7.0  -7.1            0.0          944.0   \n",
       "3          5.4    5.3    5.6   5.6            NaN          946.0   \n",
       "4          3.9    3.9    4.0   3.9            NaN          931.0   \n",
       "...        ...    ...    ...   ...            ...            ...   \n",
       "311035    16.3   16.2   16.4  16.2            0.0          936.0   \n",
       "311036    11.3   11.3   11.4  11.3            NaN          948.0   \n",
       "311037    23.0   22.8   23.2  22.9            0.0          938.0   \n",
       "311038    -1.6   -1.7   -1.5  -1.7            NaN          950.0   \n",
       "311039     0.2    0.1    0.3   0.2            NaN          944.0   \n",
       "\n",
       "        min pressure  max pressure  mean rel. hum.  min rel. hum.  \\\n",
       "0              953.0         953.0            50.0           49.0   \n",
       "1              942.0         943.0            63.0           61.0   \n",
       "2              944.0         944.0            94.0           92.0   \n",
       "3              946.0         947.0            81.0           80.0   \n",
       "4              931.0         931.0            98.0           97.0   \n",
       "...              ...           ...             ...            ...   \n",
       "311035         936.0         936.0            86.0           85.0   \n",
       "311036         948.0         948.0            59.0           57.0   \n",
       "311037         938.0         938.0            61.0           56.0   \n",
       "311038         950.0         950.0            48.0           48.0   \n",
       "311039         944.0         944.0            54.0           50.0   \n",
       "\n",
       "        max rel. hum.  rel. hum.  wind speed  wind direction  max gust  \n",
       "0                51.0       50.0         2.8            40.0       5.1  \n",
       "1                66.0       62.0         3.1            29.0       6.3  \n",
       "2                97.0       95.0         1.0           190.0       1.5  \n",
       "3                83.0       80.0         5.4            47.0       8.6  \n",
       "4                99.0       98.0         2.7            11.0       3.4  \n",
       "...               ...        ...         ...             ...       ...  \n",
       "311035           86.0       86.0         4.6           201.0       7.2  \n",
       "311036           61.0       59.0         1.5            56.0       2.5  \n",
       "311037           66.0       63.0         2.0           193.0       3.3  \n",
       "311038           48.0       48.0         0.6           320.0       1.0  \n",
       "311039           58.0       54.0         5.0            32.0       7.8  \n",
       "\n",
       "[311040 rows x 19 columns]"
      ]
     },
     "execution_count": 2,
     "metadata": {},
     "output_type": "execute_result"
    }
   ],
   "source": [
    "df = pd.read_excel('iir_podatkovna_zbirka.xlsx')\n",
    "df"
   ]
  },
  {
   "cell_type": "code",
   "execution_count": 3,
   "metadata": {},
   "outputs": [],
   "source": [
    "df['time'] = pd.to_datetime(df['time'])\n",
    "df.sort_values(by='time', inplace=True)\n",
    "df = df.drop(['time'], axis=1)"
   ]
  },
  {
   "cell_type": "code",
   "execution_count": 4,
   "metadata": {},
   "outputs": [],
   "source": [
    "imputer = IterativeImputer()\n",
    "imputer.fit(df)\n",
    "df_imputed = imputer.transform(df)\n",
    "df = pd.DataFrame(df_imputed, columns=df.columns)"
   ]
  },
  {
   "cell_type": "code",
   "execution_count": 5,
   "metadata": {},
   "outputs": [],
   "source": [
    "X = df.drop(['global energy'], axis=1)\n",
    "Y = df['global energy'].to_numpy()"
   ]
  },
  {
   "cell_type": "code",
   "execution_count": 6,
   "metadata": {},
   "outputs": [
    {
     "name": "stdout",
     "output_type": "stream",
     "text": [
      "Index(['mean rel. hum.', 'rel. hum.', 'min rel. hum.', 'precipitation',\n",
      "       'diffusive energy'],\n",
      "      dtype='object')\n"
     ]
    }
   ],
   "source": [
    "mi = mutual_info_regression(X, Y)\n",
    "selected_features = X.columns[np.argsort(mi)[-5:]]\n",
    "print(selected_features)\n",
    "X = X[selected_features]"
   ]
  },
  {
   "cell_type": "code",
   "execution_count": 7,
   "metadata": {},
   "outputs": [],
   "source": [
    "X_train, X_test, Y_train, Y_test = train_test_split(X, Y, test_size=4032, shuffle=False)"
   ]
  },
  {
   "cell_type": "code",
   "execution_count": 8,
   "metadata": {},
   "outputs": [],
   "source": [
    "scaler = StandardScaler()\n",
    "X_train = scaler.fit_transform(X_train)\n",
    "X_test = scaler.transform(X_test)"
   ]
  },
  {
   "cell_type": "code",
   "execution_count": 9,
   "metadata": {},
   "outputs": [],
   "source": [
    "n_future = 1\n",
    "n_past = 504\n",
    "\n",
    "X_train_temp = []\n",
    "Y_train_temp = []\n",
    "X_test_temp = []\n",
    "Y_test_temp = []\n",
    "\n",
    "for i in range(n_past, len(X_train) - n_future + 1):\n",
    "    X_train_temp.append(X_train[i - n_past:i, :])\n",
    "    Y_train_temp.append(Y_train[i + n_future - 1:i + n_future])\n",
    "\n",
    "for i in range(n_past, len(X_test) - n_future + 1):\n",
    "    X_test_temp.append(X_test[i - n_past:i, :])\n",
    "    Y_test_temp.append(Y_test[i + n_future - 1:i + n_future])\n",
    "\n",
    "X_train = np.array(X_train_temp)\n",
    "Y_train = np.array(Y_train_temp)\n",
    "X_test = np.array(X_test_temp)\n",
    "Y_test = np.array(Y_test_temp)"
   ]
  },
  {
   "cell_type": "code",
   "execution_count": 10,
   "metadata": {},
   "outputs": [],
   "source": [
    "#early_stopping = EarlyStopping(monitor='val_loss', patience=2)\n",
    "model = Sequential()\n",
    "model.add(LSTM(128, input_shape=(504, 5), return_sequences=True))\n",
    "model.add(LSTM(64, return_sequences=False))\n",
    "model.add(Dropout(0.2))\n",
    "model.add(Dense(Y_train.shape[1]))"
   ]
  },
  {
   "cell_type": "code",
   "execution_count": 15,
   "metadata": {},
   "outputs": [],
   "source": [
    "from tensorflow.keras.callbacks import ModelCheckpoint\n",
    "from tensorflow.keras.models import load_model"
   ]
  },
  {
   "cell_type": "code",
   "execution_count": 16,
   "metadata": {},
   "outputs": [
    {
     "name": "stdout",
     "output_type": "stream",
     "text": [
      "Model: \"sequential\"\n",
      "_________________________________________________________________\n",
      " Layer (type)                Output Shape              Param #   \n",
      "=================================================================\n",
      " lstm (LSTM)                 (None, 504, 128)          68608     \n",
      "                                                                 \n",
      " lstm_1 (LSTM)               (None, 64)                49408     \n",
      "                                                                 \n",
      " dropout (Dropout)           (None, 64)                0         \n",
      "                                                                 \n",
      " dense (Dense)               (None, 1)                 65        \n",
      "                                                                 \n",
      "=================================================================\n",
      "Total params: 118,081\n",
      "Trainable params: 118,081\n",
      "Non-trainable params: 0\n",
      "_________________________________________________________________\n"
     ]
    }
   ],
   "source": [
    "cp = ModelCheckpoint('model/', save_best_only=True)\n",
    "model.compile(optimizer='adam', loss='mse')\n",
    "model.summary()"
   ]
  },
  {
   "cell_type": "code",
   "execution_count": 12,
   "metadata": {},
   "outputs": [
    {
     "name": "stdout",
     "output_type": "stream",
     "text": [
      "Epoch 1/20\n",
      "500/500 [==============================] - 498s 976ms/step - loss: 53364.3086 - val_loss: 8886.5518\n",
      "Epoch 2/20\n",
      "500/500 [==============================] - 481s 962ms/step - loss: 47287.1328 - val_loss: 9937.4102\n",
      "Epoch 3/20\n",
      "500/500 [==============================] - 482s 964ms/step - loss: 43605.8711 - val_loss: 11929.3281\n",
      "Epoch 4/20\n",
      "500/500 [==============================] - 486s 973ms/step - loss: 41379.6914 - val_loss: 14404.7236\n",
      "Epoch 5/20\n",
      "500/500 [==============================] - 486s 973ms/step - loss: 39291.0898 - val_loss: 16745.0234\n",
      "Epoch 6/20\n",
      "500/500 [==============================] - 489s 979ms/step - loss: 38949.2578 - val_loss: 18667.0723\n",
      "Epoch 7/20\n",
      "500/500 [==============================] - 495s 989ms/step - loss: 38203.6719 - val_loss: 20043.8730\n",
      "Epoch 8/20\n",
      "500/500 [==============================] - 500s 1000ms/step - loss: 33162.6133 - val_loss: 4559.2163\n",
      "Epoch 9/20\n",
      "500/500 [==============================] - 495s 990ms/step - loss: 25337.8008 - val_loss: 3763.1462\n",
      "Epoch 10/20\n",
      "500/500 [==============================] - 502s 1s/step - loss: 21645.4277 - val_loss: 3490.4451\n",
      "Epoch 11/20\n",
      "500/500 [==============================] - 505s 1s/step - loss: 18978.9004 - val_loss: 3374.9741\n",
      "Epoch 12/20\n",
      "500/500 [==============================] - 504s 1s/step - loss: 16399.2656 - val_loss: 3200.7480\n",
      "Epoch 13/20\n",
      "500/500 [==============================] - 502s 1s/step - loss: 15457.4150 - val_loss: 3025.5574\n",
      "Epoch 14/20\n",
      "500/500 [==============================] - 500s 1s/step - loss: 13979.9785 - val_loss: 3025.3364\n",
      "Epoch 15/20\n",
      "500/500 [==============================] - 501s 1s/step - loss: 12820.5303 - val_loss: 2979.6917\n",
      "Epoch 16/20\n",
      "500/500 [==============================] - 501s 1s/step - loss: 11763.1221 - val_loss: 2813.7354\n",
      "Epoch 17/20\n",
      "500/500 [==============================] - 505s 1s/step - loss: 10736.0762 - val_loss: 2790.8098\n",
      "Epoch 18/20\n",
      "500/500 [==============================] - 496s 992ms/step - loss: 10661.8184 - val_loss: 2910.5859\n",
      "Epoch 19/20\n",
      "500/500 [==============================] - 498s 997ms/step - loss: 9866.2480 - val_loss: 2993.7827\n",
      "Epoch 20/20\n",
      "500/500 [==============================] - 507s 1s/step - loss: 9401.2012 - val_loss: 3266.7673\n"
     ]
    }
   ],
   "source": [
    "history = model.fit(X_train, Y_train, epochs=20, steps_per_epoch=500, validation_data=(X_test, Y_test), batch_size=64) #,\n",
    "#                    callbacks=[early_stopping])\n",
    "\n",
    "model.save('model.h5')"
   ]
  },
  {
   "cell_type": "code",
   "execution_count": 13,
   "metadata": {},
   "outputs": [
    {
     "name": "stdout",
     "output_type": "stream",
     "text": [
      "111/111 [==============================] - 18s 154ms/step\n",
      "Test loss: 3266.76708984375\n",
      "Mean Absolute Error: 37.00640145712454\n",
      "Mean Squared Error: 3266.767179163756\n",
      "Explained Variance Score: 0.6581709125214004\n"
     ]
    },
    {
     "data": {
      "image/png": "[encoded data removed]",
      "text/plain": [
       "<Figure size 640x480 with 1 Axes>"
      ]
     },
     "metadata": {},
     "output_type": "display_data"
    }
   ],
   "source": [
    "predictions = model.predict(X_test)\n",
    "result = model.evaluate(X_test, Y_test, verbose=0)\n",
    "print(f\"Test loss: {result}\")\n",
    "\n",
    "mae = mean_absolute_error(Y_test, predictions)\n",
    "print(f\"Mean Absolute Error: {mae}\")\n",
    "\n",
    "mse = mean_squared_error(Y_test, predictions)\n",
    "print(f\"Mean Squared Error: {mse}\")\n",
    "\n",
    "evs = explained_variance_score(Y_test, predictions)\n",
    "print(f\"Explained Variance Score: {evs}\")\n",
    "\n",
    "plt.plot(Y_test, label='True values')\n",
    "plt.plot(predictions, label='Predictions')\n",
    "plt.legend()\n",
    "plt.show()"
   ]
  },
  {
   "attachments": {},
   "cell_type": "markdown",
   "metadata": {},
   "source": [
    "# 10 znacilnic"
   ]
  },
  {
   "cell_type": "code",
   "execution_count": 5,
   "metadata": {},
   "outputs": [
    {
     "name": "stdout",
     "output_type": "stream",
     "text": [
      "Index(['min T', 'mean T', 'T', 'max T', 'max rel. hum.', 'mean rel. hum.',\n",
      "       'rel. hum.', 'min rel. hum.', 'precipitation', 'diffusive energy'],\n",
      "      dtype='object')\n"
     ]
    }
   ],
   "source": [
    "X = df.drop(['global energy'], axis=1)\n",
    "Y = df['global energy'].to_numpy()\n",
    "\n",
    "mi = mutual_info_regression(X, Y)\n",
    "selected_features = X.columns[np.argsort(mi)[-10:]]\n",
    "print(selected_features)\n",
    "X = X[selected_features]\n",
    "\n",
    "X_train, X_test, Y_train, Y_test = train_test_split(X, Y, test_size=4032, shuffle=False)\n",
    "scaler = StandardScaler()\n",
    "X_train = scaler.fit_transform(X_train)\n",
    "X_test = scaler.transform(X_test)\n"
   ]
  },
  {
   "cell_type": "code",
   "execution_count": 6,
   "metadata": {},
   "outputs": [],
   "source": [
    "n_future = 1\n",
    "n_past = 504\n",
    "\n",
    "X_train_temp = []\n",
    "Y_train_temp = []\n",
    "X_test_temp = []\n",
    "Y_test_temp = []\n",
    "\n",
    "for i in range(n_past, len(X_train) - n_future + 1):\n",
    "    X_train_temp.append(X_train[i - n_past:i, :])\n",
    "    Y_train_temp.append(Y_train[i + n_future - 1:i + n_future])\n",
    "\n",
    "for i in range(n_past, len(X_test) - n_future + 1):\n",
    "    X_test_temp.append(X_test[i - n_past:i, :])\n",
    "    Y_test_temp.append(Y_test[i + n_future - 1:i + n_future])\n",
    "\n",
    "X_train = np.array(X_train_temp)\n",
    "Y_train = np.array(Y_train_temp)\n",
    "X_test = np.array(X_test_temp)\n",
    "Y_test = np.array(Y_test_temp)"
   ]
  },
  {
   "cell_type": "code",
   "execution_count": 7,
   "metadata": {},
   "outputs": [],
   "source": [
    "#early_stopping = EarlyStopping(monitor='val_loss', patience=2)\n",
    "model2 = Sequential()\n",
    "model2.add(LSTM(128, input_shape=(504, 10), return_sequences=True))\n",
    "model2.add(LSTM(64, return_sequences=False))\n",
    "model2.add(Dropout(0.2))\n",
    "model2.add(Dense(Y_train.shape[1]))"
   ]
  },
  {
   "cell_type": "code",
   "execution_count": 8,
   "metadata": {},
   "outputs": [
    {
     "name": "stdout",
     "output_type": "stream",
     "text": [
      "Model: \"sequential\"\n",
      "_________________________________________________________________\n",
      " Layer (type)                Output Shape              Param #   \n",
      "=================================================================\n",
      " lstm (LSTM)                 (None, 504, 128)          71168     \n",
      "                                                                 \n",
      " lstm_1 (LSTM)               (None, 64)                49408     \n",
      "                                                                 \n",
      " dropout (Dropout)           (None, 64)                0         \n",
      "                                                                 \n",
      " dense (Dense)               (None, 1)                 65        \n",
      "                                                                 \n",
      "=================================================================\n",
      "Total params: 120,641\n",
      "Trainable params: 120,641\n",
      "Non-trainable params: 0\n",
      "_________________________________________________________________\n",
      "Epoch 1/20\n",
      "500/500 [==============================] - ETA: 0s - loss: 53860.0195"
     ]
    },
    {
     "name": "stderr",
     "output_type": "stream",
     "text": [
      "WARNING:absl:Found untraced functions such as _update_step_xla, lstm_cell_layer_call_fn, lstm_cell_layer_call_and_return_conditional_losses, lstm_cell_1_layer_call_fn, lstm_cell_1_layer_call_and_return_conditional_losses while saving (showing 5 of 5). These functions will not be directly callable after loading.\n"
     ]
    },
    {
     "name": "stdout",
     "output_type": "stream",
     "text": [
      "INFO:tensorflow:Assets written to: model2\\assets\n"
     ]
    },
    {
     "name": "stderr",
     "output_type": "stream",
     "text": [
      "INFO:tensorflow:Assets written to: model2\\assets\n"
     ]
    },
    {
     "name": "stdout",
     "output_type": "stream",
     "text": [
      "500/500 [==============================] - 561s 1s/step - loss: 53860.0195 - val_loss: 8891.5947\n",
      "Epoch 2/20\n",
      "500/500 [==============================] - 486s 971ms/step - loss: 47269.7383 - val_loss: 9942.3408\n",
      "Epoch 3/20\n",
      "500/500 [==============================] - 472s 943ms/step - loss: 42844.1992 - val_loss: 12022.0645\n",
      "Epoch 4/20\n",
      "500/500 [==============================] - 471s 943ms/step - loss: 40357.0195 - val_loss: 14385.9932\n",
      "Epoch 5/20\n",
      "500/500 [==============================] - 486s 971ms/step - loss: 39273.2266 - val_loss: 16755.7930\n",
      "Epoch 6/20\n",
      "500/500 [==============================] - ETA: 0s - loss: 35636.4141"
     ]
    },
    {
     "name": "stderr",
     "output_type": "stream",
     "text": [
      "WARNING:absl:Found untraced functions such as _update_step_xla, lstm_cell_layer_call_fn, lstm_cell_layer_call_and_return_conditional_losses, lstm_cell_1_layer_call_fn, lstm_cell_1_layer_call_and_return_conditional_losses while saving (showing 5 of 5). These functions will not be directly callable after loading.\n"
     ]
    },
    {
     "name": "stdout",
     "output_type": "stream",
     "text": [
      "INFO:tensorflow:Assets written to: model2\\assets\n"
     ]
    },
    {
     "name": "stderr",
     "output_type": "stream",
     "text": [
      "INFO:tensorflow:Assets written to: model2\\assets\n"
     ]
    },
    {
     "name": "stdout",
     "output_type": "stream",
     "text": [
      "500/500 [==============================] - 490s 981ms/step - loss: 35636.4141 - val_loss: 4421.9507\n",
      "Epoch 7/20\n",
      "500/500 [==============================] - ETA: 0s - loss: 26872.4297"
     ]
    },
    {
     "name": "stderr",
     "output_type": "stream",
     "text": [
      "WARNING:absl:Found untraced functions such as _update_step_xla, lstm_cell_layer_call_fn, lstm_cell_layer_call_and_return_conditional_losses, lstm_cell_1_layer_call_fn, lstm_cell_1_layer_call_and_return_conditional_losses while saving (showing 5 of 5). These functions will not be directly callable after loading.\n"
     ]
    },
    {
     "name": "stdout",
     "output_type": "stream",
     "text": [
      "INFO:tensorflow:Assets written to: model2\\assets\n"
     ]
    },
    {
     "name": "stderr",
     "output_type": "stream",
     "text": [
      "INFO:tensorflow:Assets written to: model2\\assets\n"
     ]
    },
    {
     "name": "stdout",
     "output_type": "stream",
     "text": [
      "500/500 [==============================] - 574s 1s/step - loss: 26872.4297 - val_loss: 3716.5981\n",
      "Epoch 8/20\n",
      "500/500 [==============================] - ETA: 0s - loss: 23088.4785"
     ]
    },
    {
     "name": "stderr",
     "output_type": "stream",
     "text": [
      "WARNING:absl:Found untraced functions such as _update_step_xla, lstm_cell_layer_call_fn, lstm_cell_layer_call_and_return_conditional_losses, lstm_cell_1_layer_call_fn, lstm_cell_1_layer_call_and_return_conditional_losses while saving (showing 5 of 5). These functions will not be directly callable after loading.\n"
     ]
    },
    {
     "name": "stdout",
     "output_type": "stream",
     "text": [
      "INFO:tensorflow:Assets written to: model2\\assets\n"
     ]
    },
    {
     "name": "stderr",
     "output_type": "stream",
     "text": [
      "INFO:tensorflow:Assets written to: model2\\assets\n"
     ]
    },
    {
     "name": "stdout",
     "output_type": "stream",
     "text": [
      "500/500 [==============================] - 533s 1s/step - loss: 23088.4785 - val_loss: 3416.3340\n",
      "Epoch 9/20\n",
      "500/500 [==============================] - ETA: 0s - loss: 20442.2832"
     ]
    },
    {
     "name": "stderr",
     "output_type": "stream",
     "text": [
      "WARNING:absl:Found untraced functions such as _update_step_xla, lstm_cell_layer_call_fn, lstm_cell_layer_call_and_return_conditional_losses, lstm_cell_1_layer_call_fn, lstm_cell_1_layer_call_and_return_conditional_losses while saving (showing 5 of 5). These functions will not be directly callable after loading.\n"
     ]
    },
    {
     "name": "stdout",
     "output_type": "stream",
     "text": [
      "INFO:tensorflow:Assets written to: model2\\assets\n"
     ]
    },
    {
     "name": "stderr",
     "output_type": "stream",
     "text": [
      "INFO:tensorflow:Assets written to: model2\\assets\n"
     ]
    },
    {
     "name": "stdout",
     "output_type": "stream",
     "text": [
      "500/500 [==============================] - 606s 1s/step - loss: 20442.2832 - val_loss: 3379.9187\n",
      "Epoch 10/20\n",
      "500/500 [==============================] - ETA: 0s - loss: 18785.9531"
     ]
    },
    {
     "name": "stderr",
     "output_type": "stream",
     "text": [
      "WARNING:absl:Found untraced functions such as _update_step_xla, lstm_cell_layer_call_fn, lstm_cell_layer_call_and_return_conditional_losses, lstm_cell_1_layer_call_fn, lstm_cell_1_layer_call_and_return_conditional_losses while saving (showing 5 of 5). These functions will not be directly callable after loading.\n"
     ]
    },
    {
     "name": "stdout",
     "output_type": "stream",
     "text": [
      "INFO:tensorflow:Assets written to: model2\\assets\n"
     ]
    },
    {
     "name": "stderr",
     "output_type": "stream",
     "text": [
      "INFO:tensorflow:Assets written to: model2\\assets\n"
     ]
    },
    {
     "name": "stdout",
     "output_type": "stream",
     "text": [
      "500/500 [==============================] - 614s 1s/step - loss: 18785.9531 - val_loss: 3091.9150\n",
      "Epoch 11/20\n",
      "500/500 [==============================] - ETA: 0s - loss: 16758.9199"
     ]
    },
    {
     "name": "stderr",
     "output_type": "stream",
     "text": [
      "WARNING:absl:Found untraced functions such as _update_step_xla, lstm_cell_layer_call_fn, lstm_cell_layer_call_and_return_conditional_losses, lstm_cell_1_layer_call_fn, lstm_cell_1_layer_call_and_return_conditional_losses while saving (showing 5 of 5). These functions will not be directly callable after loading.\n"
     ]
    },
    {
     "name": "stdout",
     "output_type": "stream",
     "text": [
      "INFO:tensorflow:Assets written to: model2\\assets\n"
     ]
    },
    {
     "name": "stderr",
     "output_type": "stream",
     "text": [
      "INFO:tensorflow:Assets written to: model2\\assets\n"
     ]
    },
    {
     "name": "stdout",
     "output_type": "stream",
     "text": [
      "500/500 [==============================] - 621s 1s/step - loss: 16758.9199 - val_loss: 2893.8264\n",
      "Epoch 12/20\n",
      "500/500 [==============================] - ETA: 0s - loss: 15049.5527"
     ]
    },
    {
     "name": "stderr",
     "output_type": "stream",
     "text": [
      "WARNING:absl:Found untraced functions such as _update_step_xla, lstm_cell_layer_call_fn, lstm_cell_layer_call_and_return_conditional_losses, lstm_cell_1_layer_call_fn, lstm_cell_1_layer_call_and_return_conditional_losses while saving (showing 5 of 5). These functions will not be directly callable after loading.\n"
     ]
    },
    {
     "name": "stdout",
     "output_type": "stream",
     "text": [
      "INFO:tensorflow:Assets written to: model2\\assets\n"
     ]
    },
    {
     "name": "stderr",
     "output_type": "stream",
     "text": [
      "INFO:tensorflow:Assets written to: model2\\assets\n"
     ]
    },
    {
     "name": "stdout",
     "output_type": "stream",
     "text": [
      "500/500 [==============================] - 632s 1s/step - loss: 15049.5527 - val_loss: 2823.9255\n",
      "Epoch 13/20\n",
      "500/500 [==============================] - 650s 1s/step - loss: 13602.4502 - val_loss: 2979.5813\n",
      "Epoch 14/20\n",
      "500/500 [==============================] - 652s 1s/step - loss: 12778.9082 - val_loss: 2835.8496\n",
      "Epoch 15/20\n",
      "500/500 [==============================] - ETA: 0s - loss: 11313.6650"
     ]
    },
    {
     "name": "stderr",
     "output_type": "stream",
     "text": [
      "WARNING:absl:Found untraced functions such as _update_step_xla, lstm_cell_layer_call_fn, lstm_cell_layer_call_and_return_conditional_losses, lstm_cell_1_layer_call_fn, lstm_cell_1_layer_call_and_return_conditional_losses while saving (showing 5 of 5). These functions will not be directly callable after loading.\n"
     ]
    },
    {
     "name": "stdout",
     "output_type": "stream",
     "text": [
      "INFO:tensorflow:Assets written to: model2\\assets\n"
     ]
    },
    {
     "name": "stderr",
     "output_type": "stream",
     "text": [
      "INFO:tensorflow:Assets written to: model2\\assets\n"
     ]
    },
    {
     "name": "stdout",
     "output_type": "stream",
     "text": [
      "500/500 [==============================] - 648s 1s/step - loss: 11313.6650 - val_loss: 2754.8596\n",
      "Epoch 16/20\n",
      "500/500 [==============================] - 680s 1s/step - loss: 10833.8291 - val_loss: 2834.4214\n",
      "Epoch 17/20\n",
      "500/500 [==============================] - ETA: 0s - loss: 10393.5596"
     ]
    },
    {
     "name": "stderr",
     "output_type": "stream",
     "text": [
      "WARNING:absl:Found untraced functions such as _update_step_xla, lstm_cell_layer_call_fn, lstm_cell_layer_call_and_return_conditional_losses, lstm_cell_1_layer_call_fn, lstm_cell_1_layer_call_and_return_conditional_losses while saving (showing 5 of 5). These functions will not be directly callable after loading.\n"
     ]
    },
    {
     "name": "stdout",
     "output_type": "stream",
     "text": [
      "INFO:tensorflow:Assets written to: model2\\assets\n"
     ]
    },
    {
     "name": "stderr",
     "output_type": "stream",
     "text": [
      "INFO:tensorflow:Assets written to: model2\\assets\n"
     ]
    },
    {
     "name": "stdout",
     "output_type": "stream",
     "text": [
      "500/500 [==============================] - 699s 1s/step - loss: 10393.5596 - val_loss: 2710.0540\n",
      "Epoch 18/20\n",
      "500/500 [==============================] - ETA: 0s - loss: 9102.6885"
     ]
    },
    {
     "name": "stderr",
     "output_type": "stream",
     "text": [
      "WARNING:absl:Found untraced functions such as _update_step_xla, lstm_cell_layer_call_fn, lstm_cell_layer_call_and_return_conditional_losses, lstm_cell_1_layer_call_fn, lstm_cell_1_layer_call_and_return_conditional_losses while saving (showing 5 of 5). These functions will not be directly callable after loading.\n"
     ]
    },
    {
     "name": "stdout",
     "output_type": "stream",
     "text": [
      "INFO:tensorflow:Assets written to: model2\\assets\n"
     ]
    },
    {
     "name": "stderr",
     "output_type": "stream",
     "text": [
      "INFO:tensorflow:Assets written to: model2\\assets\n"
     ]
    },
    {
     "name": "stdout",
     "output_type": "stream",
     "text": [
      "500/500 [==============================] - 775s 2s/step - loss: 9102.6885 - val_loss: 2510.2542\n",
      "Epoch 19/20\n",
      "500/500 [==============================] - ETA: 0s - loss: 8991.2109"
     ]
    },
    {
     "name": "stderr",
     "output_type": "stream",
     "text": [
      "WARNING:absl:Found untraced functions such as _update_step_xla, lstm_cell_layer_call_fn, lstm_cell_layer_call_and_return_conditional_losses, lstm_cell_1_layer_call_fn, lstm_cell_1_layer_call_and_return_conditional_losses while saving (showing 5 of 5). These functions will not be directly callable after loading.\n"
     ]
    },
    {
     "name": "stdout",
     "output_type": "stream",
     "text": [
      "INFO:tensorflow:Assets written to: model2\\assets\n"
     ]
    },
    {
     "name": "stderr",
     "output_type": "stream",
     "text": [
      "INFO:tensorflow:Assets written to: model2\\assets\n"
     ]
    },
    {
     "name": "stdout",
     "output_type": "stream",
     "text": [
      "500/500 [==============================] - 764s 2s/step - loss: 8991.2109 - val_loss: 2454.1675\n",
      "Epoch 20/20\n",
      "500/500 [==============================] - 842s 2s/step - loss: 8579.1865 - val_loss: 2595.7097\n"
     ]
    }
   ],
   "source": [
    "from tensorflow.keras.callbacks import ModelCheckpoint\n",
    "from tensorflow.keras.models import load_model\n",
    "\n",
    "cp = ModelCheckpoint('model2/', save_best_only=True)\n",
    "model2.compile(optimizer='adam', loss='mse')\n",
    "model2.summary()\n",
    "\n",
    "history2 = model2.fit(X_train, Y_train, epochs=20, steps_per_epoch=500, validation_data=(X_test, Y_test), batch_size=64,callbacks=[cp])\n",
    "\n",
    "model2 = load_model('model2/')\n",
    "\n",
    "model2.save('model2.h5')"
   ]
  },
  {
   "cell_type": "code",
   "execution_count": 9,
   "metadata": {},
   "outputs": [
    {
     "name": "stdout",
     "output_type": "stream",
     "text": [
      "111/111 [==============================] - 30s 247ms/step\n",
      "Test loss: 2454.1669921875\n",
      "Mean Absolute Error: 30.367249250010122\n",
      "Mean Squared Error: 2454.167461868445\n",
      "Explained Variance Score: 0.7242912669022957\n"
     ]
    },
    {
     "data": {
      "image/png": "[encoded data removed]",
      "text/plain": [
       "<Figure size 640x480 with 1 Axes>"
      ]
     },
     "metadata": {},
     "output_type": "display_data"
    }
   ],
   "source": [
    "predictions2 = model2.predict(X_test)\n",
    "result2 = model2.evaluate(X_test, Y_test, verbose=0)\n",
    "print(f\"Test loss: {result2}\")\n",
    "\n",
    "mae2 = mean_absolute_error(Y_test, predictions2)\n",
    "print(f\"Mean Absolute Error: {mae2}\")\n",
    "\n",
    "mse2 = mean_squared_error(Y_test, predictions2)\n",
    "print(f\"Mean Squared Error: {mse2}\")\n",
    "\n",
    "evs2 = explained_variance_score(Y_test, predictions2)\n",
    "print(f\"Explained Variance Score: {evs2}\")\n",
    "\n",
    "plt.plot(Y_test, label='True values')\n",
    "plt.plot(predictions2, label='Predictions')\n",
    "plt.legend()\n",
    "plt.show()"
   ]
  },
  {
   "cell_type": "code",
   "execution_count": null,
   "metadata": {},
   "outputs": [],
   "source": [
    "# z 1008 zaporednih"
   ]
  },
  {
   "cell_type": "code",
   "execution_count": 2,
   "metadata": {},
   "outputs": [],
   "source": [
    "import numpy as np\n",
    "import pandas as pd\n",
    "from sklearn.feature_selection import mutual_info_regression\n",
    "from keras.models import Sequential\n",
    "from keras.layers import LSTM, Dense\n",
    "from keras.callbacks import EarlyStopping\n",
    "from keras.layers import Dropout\n",
    "from sklearn.experimental import enable_iterative_imputer\n",
    "from sklearn.impute import IterativeImputer\n",
    "from sklearn.model_selection import train_test_split\n",
    "from sklearn.preprocessing import StandardScaler\n",
    "from sklearn.metrics import mean_absolute_error, mean_squared_error, explained_variance_score\n",
    "import matplotlib.pyplot as plt\n",
    "\n",
    "df = pd.read_excel('iir_podatkovna_zbirka.xlsx')\n",
    "\n",
    "df['time'] = pd.to_datetime(df['time'])\n",
    "df.sort_values(by='time', inplace=True)\n",
    "df = df.drop(['time'], axis=1)\n",
    "\n",
    "imputer = IterativeImputer()\n",
    "imputer.fit(df)\n",
    "df_imputed = imputer.transform(df)\n",
    "df = pd.DataFrame(df_imputed, columns=df.columns)"
   ]
  },
  {
   "cell_type": "code",
   "execution_count": 3,
   "metadata": {},
   "outputs": [
    {
     "name": "stdout",
     "output_type": "stream",
     "text": [
      "Index(['mean rel. hum.', 'rel. hum.', 'min rel. hum.', 'precipitation',\n",
      "       'diffusive energy'],\n",
      "      dtype='object')\n"
     ]
    }
   ],
   "source": [
    "X = df.drop(['global energy'], axis=1)\n",
    "Y = df['global energy'].to_numpy()\n",
    "\n",
    "mi = mutual_info_regression(X, Y)\n",
    "selected_features = X.columns[np.argsort(mi)[-5:]]\n",
    "print(selected_features)\n",
    "X = X[selected_features]\n",
    "\n",
    "X_train, X_test, Y_train, Y_test = train_test_split(X, Y, test_size=4032, shuffle=False)\n",
    "scaler = StandardScaler()\n",
    "X_train = scaler.fit_transform(X_train)\n",
    "X_test = scaler.transform(X_test)"
   ]
  },
  {
   "cell_type": "code",
   "execution_count": 4,
   "metadata": {},
   "outputs": [],
   "source": [
    "n_future = 1\n",
    "n_past = 1008\n",
    "\n",
    "X_train_temp = []\n",
    "Y_train_temp = []\n",
    "X_test_temp = []\n",
    "Y_test_temp = []\n",
    "\n",
    "for i in range(n_past, len(X_train) - n_future + 1):\n",
    "    X_train_temp.append(X_train[i - n_past:i, :])\n",
    "    Y_train_temp.append(Y_train[i + n_future - 1:i + n_future])\n",
    "\n",
    "for i in range(n_past, len(X_test) - n_future + 1):\n",
    "    X_test_temp.append(X_test[i - n_past:i, :])\n",
    "    Y_test_temp.append(Y_test[i + n_future - 1:i + n_future])\n",
    "\n",
    "X_train = np.array(X_train_temp)\n",
    "Y_train = np.array(Y_train_temp)\n",
    "X_test = np.array(X_test_temp)\n",
    "Y_test = np.array(Y_test_temp)"
   ]
  },
  {
   "cell_type": "code",
   "execution_count": 5,
   "metadata": {},
   "outputs": [],
   "source": [
    "model3 = Sequential()\n",
    "model3.add(LSTM(128, input_shape=(1008, 5), return_sequences=True))\n",
    "model3.add(LSTM(64, return_sequences=False))\n",
    "model3.add(Dropout(0.2))\n",
    "model3.add(Dense(Y_train.shape[1]))"
   ]
  },
  {
   "cell_type": "code",
   "execution_count": 6,
   "metadata": {},
   "outputs": [
    {
     "name": "stdout",
     "output_type": "stream",
     "text": [
      "Model: \"sequential\"\n",
      "_________________________________________________________________\n",
      " Layer (type)                Output Shape              Param #   \n",
      "=================================================================\n",
      " lstm (LSTM)                 (None, 1008, 128)         68608     \n",
      "                                                                 \n",
      " lstm_1 (LSTM)               (None, 64)                49408     \n",
      "                                                                 \n",
      " dropout (Dropout)           (None, 64)                0         \n",
      "                                                                 \n",
      " dense (Dense)               (None, 1)                 65        \n",
      "                                                                 \n",
      "=================================================================\n",
      "Total params: 118,081\n",
      "Trainable params: 118,081\n",
      "Non-trainable params: 0\n",
      "_________________________________________________________________\n",
      "Epoch 1/20\n",
      "500/500 [==============================] - ETA: 0s - loss: 54529.7695"
     ]
    },
    {
     "name": "stderr",
     "output_type": "stream",
     "text": [
      "WARNING:absl:Found untraced functions such as _update_step_xla, lstm_cell_layer_call_fn, lstm_cell_layer_call_and_return_conditional_losses, lstm_cell_1_layer_call_fn, lstm_cell_1_layer_call_and_return_conditional_losses while saving (showing 5 of 5). These functions will not be directly callable after loading.\n"
     ]
    },
    {
     "name": "stdout",
     "output_type": "stream",
     "text": [
      "INFO:tensorflow:Assets written to: model3\\assets\n"
     ]
    },
    {
     "name": "stderr",
     "output_type": "stream",
     "text": [
      "INFO:tensorflow:Assets written to: model3\\assets\n"
     ]
    },
    {
     "name": "stdout",
     "output_type": "stream",
     "text": [
      "500/500 [==============================] - 1518s 3s/step - loss: 54529.7695 - val_loss: 7491.9814\n",
      "Epoch 2/20\n",
      "500/500 [==============================] - 1543s 3s/step - loss: 46853.3516 - val_loss: 9093.2754\n",
      "Epoch 3/20\n",
      "500/500 [==============================] - 1529s 3s/step - loss: 43056.0234 - val_loss: 11636.8613\n",
      "Epoch 4/20\n",
      "500/500 [==============================] - 1511s 3s/step - loss: 40392.1250 - val_loss: 14513.4287\n",
      "Epoch 5/20\n",
      "500/500 [==============================] - 1524s 3s/step - loss: 38089.4844 - val_loss: 16961.4727\n",
      "Epoch 6/20\n",
      "500/500 [==============================] - 1533s 3s/step - loss: 39656.3477 - val_loss: 19303.5020\n",
      "Epoch 7/20\n",
      "500/500 [==============================] - ETA: 0s - loss: 34735.9375"
     ]
    },
    {
     "name": "stderr",
     "output_type": "stream",
     "text": [
      "WARNING:absl:Found untraced functions such as _update_step_xla, lstm_cell_layer_call_fn, lstm_cell_layer_call_and_return_conditional_losses, lstm_cell_1_layer_call_fn, lstm_cell_1_layer_call_and_return_conditional_losses while saving (showing 5 of 5). These functions will not be directly callable after loading.\n"
     ]
    },
    {
     "name": "stdout",
     "output_type": "stream",
     "text": [
      "INFO:tensorflow:Assets written to: model3\\assets\n"
     ]
    },
    {
     "name": "stderr",
     "output_type": "stream",
     "text": [
      "INFO:tensorflow:Assets written to: model3\\assets\n"
     ]
    },
    {
     "name": "stdout",
     "output_type": "stream",
     "text": [
      "500/500 [==============================] - 1548s 3s/step - loss: 34735.9375 - val_loss: 3764.4150\n",
      "Epoch 8/20\n",
      "500/500 [==============================] - ETA: 0s - loss: 27297.4082"
     ]
    },
    {
     "name": "stderr",
     "output_type": "stream",
     "text": [
      "WARNING:absl:Found untraced functions such as _update_step_xla, lstm_cell_layer_call_fn, lstm_cell_layer_call_and_return_conditional_losses, lstm_cell_1_layer_call_fn, lstm_cell_1_layer_call_and_return_conditional_losses while saving (showing 5 of 5). These functions will not be directly callable after loading.\n"
     ]
    },
    {
     "name": "stdout",
     "output_type": "stream",
     "text": [
      "INFO:tensorflow:Assets written to: model3\\assets\n"
     ]
    },
    {
     "name": "stderr",
     "output_type": "stream",
     "text": [
      "INFO:tensorflow:Assets written to: model3\\assets\n"
     ]
    },
    {
     "name": "stdout",
     "output_type": "stream",
     "text": [
      "500/500 [==============================] - 1563s 3s/step - loss: 27297.4082 - val_loss: 3763.2136\n",
      "Epoch 9/20\n",
      "500/500 [==============================] - ETA: 0s - loss: 23723.4199"
     ]
    },
    {
     "name": "stderr",
     "output_type": "stream",
     "text": [
      "WARNING:absl:Found untraced functions such as _update_step_xla, lstm_cell_layer_call_fn, lstm_cell_layer_call_and_return_conditional_losses, lstm_cell_1_layer_call_fn, lstm_cell_1_layer_call_and_return_conditional_losses while saving (showing 5 of 5). These functions will not be directly callable after loading.\n"
     ]
    },
    {
     "name": "stdout",
     "output_type": "stream",
     "text": [
      "INFO:tensorflow:Assets written to: model3\\assets\n"
     ]
    },
    {
     "name": "stderr",
     "output_type": "stream",
     "text": [
      "INFO:tensorflow:Assets written to: model3\\assets\n"
     ]
    },
    {
     "name": "stdout",
     "output_type": "stream",
     "text": [
      "500/500 [==============================] - 1903s 4s/step - loss: 23723.4199 - val_loss: 3230.7119\n",
      "Epoch 10/20\n",
      "500/500 [==============================] - ETA: 0s - loss: 20984.5078"
     ]
    },
    {
     "name": "stderr",
     "output_type": "stream",
     "text": [
      "WARNING:absl:Found untraced functions such as _update_step_xla, lstm_cell_layer_call_fn, lstm_cell_layer_call_and_return_conditional_losses, lstm_cell_1_layer_call_fn, lstm_cell_1_layer_call_and_return_conditional_losses while saving (showing 5 of 5). These functions will not be directly callable after loading.\n"
     ]
    },
    {
     "name": "stdout",
     "output_type": "stream",
     "text": [
      "INFO:tensorflow:Assets written to: model3\\assets\n"
     ]
    },
    {
     "name": "stderr",
     "output_type": "stream",
     "text": [
      "INFO:tensorflow:Assets written to: model3\\assets\n"
     ]
    },
    {
     "name": "stdout",
     "output_type": "stream",
     "text": [
      "500/500 [==============================] - 2368s 5s/step - loss: 20984.5078 - val_loss: 3205.8545\n",
      "Epoch 11/20\n",
      "500/500 [==============================] - ETA: 0s - loss: 17599.0820"
     ]
    },
    {
     "name": "stderr",
     "output_type": "stream",
     "text": [
      "WARNING:absl:Found untraced functions such as _update_step_xla, lstm_cell_layer_call_fn, lstm_cell_layer_call_and_return_conditional_losses, lstm_cell_1_layer_call_fn, lstm_cell_1_layer_call_and_return_conditional_losses while saving (showing 5 of 5). These functions will not be directly callable after loading.\n"
     ]
    },
    {
     "name": "stdout",
     "output_type": "stream",
     "text": [
      "INFO:tensorflow:Assets written to: model3\\assets\n"
     ]
    },
    {
     "name": "stderr",
     "output_type": "stream",
     "text": [
      "INFO:tensorflow:Assets written to: model3\\assets\n"
     ]
    },
    {
     "name": "stdout",
     "output_type": "stream",
     "text": [
      "500/500 [==============================] - 2222s 4s/step - loss: 17599.0820 - val_loss: 2946.0774\n",
      "Epoch 12/20\n",
      "500/500 [==============================] - ETA: 0s - loss: 16485.9414"
     ]
    },
    {
     "name": "stderr",
     "output_type": "stream",
     "text": [
      "WARNING:absl:Found untraced functions such as _update_step_xla, lstm_cell_layer_call_fn, lstm_cell_layer_call_and_return_conditional_losses, lstm_cell_1_layer_call_fn, lstm_cell_1_layer_call_and_return_conditional_losses while saving (showing 5 of 5). These functions will not be directly callable after loading.\n"
     ]
    },
    {
     "name": "stdout",
     "output_type": "stream",
     "text": [
      "INFO:tensorflow:Assets written to: model3\\assets\n"
     ]
    },
    {
     "name": "stderr",
     "output_type": "stream",
     "text": [
      "INFO:tensorflow:Assets written to: model3\\assets\n"
     ]
    },
    {
     "name": "stdout",
     "output_type": "stream",
     "text": [
      "500/500 [==============================] - 2584s 5s/step - loss: 16485.9414 - val_loss: 2926.2063\n",
      "Epoch 13/20\n",
      "500/500 [==============================] - ETA: 0s - loss: 15117.8486"
     ]
    },
    {
     "name": "stderr",
     "output_type": "stream",
     "text": [
      "WARNING:absl:Found untraced functions such as _update_step_xla, lstm_cell_layer_call_fn, lstm_cell_layer_call_and_return_conditional_losses, lstm_cell_1_layer_call_fn, lstm_cell_1_layer_call_and_return_conditional_losses while saving (showing 5 of 5). These functions will not be directly callable after loading.\n"
     ]
    },
    {
     "name": "stdout",
     "output_type": "stream",
     "text": [
      "INFO:tensorflow:Assets written to: model3\\assets\n"
     ]
    },
    {
     "name": "stderr",
     "output_type": "stream",
     "text": [
      "INFO:tensorflow:Assets written to: model3\\assets\n"
     ]
    },
    {
     "name": "stdout",
     "output_type": "stream",
     "text": [
      "500/500 [==============================] - 2237s 4s/step - loss: 15117.8486 - val_loss: 2762.9397\n",
      "Epoch 14/20\n",
      "500/500 [==============================] - 2530s 5s/step - loss: 14070.6592 - val_loss: 2892.4919\n",
      "Epoch 15/20\n",
      "500/500 [==============================] - ETA: 0s - loss: 12882.1748"
     ]
    },
    {
     "name": "stderr",
     "output_type": "stream",
     "text": [
      "WARNING:absl:Found untraced functions such as _update_step_xla, lstm_cell_layer_call_fn, lstm_cell_layer_call_and_return_conditional_losses, lstm_cell_1_layer_call_fn, lstm_cell_1_layer_call_and_return_conditional_losses while saving (showing 5 of 5). These functions will not be directly callable after loading.\n"
     ]
    },
    {
     "name": "stdout",
     "output_type": "stream",
     "text": [
      "INFO:tensorflow:Assets written to: model3\\assets\n"
     ]
    },
    {
     "name": "stderr",
     "output_type": "stream",
     "text": [
      "INFO:tensorflow:Assets written to: model3\\assets\n"
     ]
    },
    {
     "name": "stdout",
     "output_type": "stream",
     "text": [
      "500/500 [==============================] - 2558s 5s/step - loss: 12882.1748 - val_loss: 2672.2329\n",
      "Epoch 16/20\n",
      "500/500 [==============================] - 2575s 5s/step - loss: 12184.7754 - val_loss: 2809.7246\n",
      "Epoch 17/20\n",
      "500/500 [==============================] - ETA: 0s - loss: 11355.8311"
     ]
    },
    {
     "name": "stderr",
     "output_type": "stream",
     "text": [
      "WARNING:absl:Found untraced functions such as _update_step_xla, lstm_cell_layer_call_fn, lstm_cell_layer_call_and_return_conditional_losses, lstm_cell_1_layer_call_fn, lstm_cell_1_layer_call_and_return_conditional_losses while saving (showing 5 of 5). These functions will not be directly callable after loading.\n"
     ]
    },
    {
     "name": "stdout",
     "output_type": "stream",
     "text": [
      "INFO:tensorflow:Assets written to: model3\\assets\n"
     ]
    },
    {
     "name": "stderr",
     "output_type": "stream",
     "text": [
      "INFO:tensorflow:Assets written to: model3\\assets\n"
     ]
    },
    {
     "name": "stdout",
     "output_type": "stream",
     "text": [
      "500/500 [==============================] - 2581s 5s/step - loss: 11355.8311 - val_loss: 2648.0740\n",
      "Epoch 18/20\n",
      "500/500 [==============================] - ETA: 0s - loss: 10552.1543"
     ]
    },
    {
     "name": "stderr",
     "output_type": "stream",
     "text": [
      "WARNING:absl:Found untraced functions such as _update_step_xla, lstm_cell_layer_call_fn, lstm_cell_layer_call_and_return_conditional_losses, lstm_cell_1_layer_call_fn, lstm_cell_1_layer_call_and_return_conditional_losses while saving (showing 5 of 5). These functions will not be directly callable after loading.\n"
     ]
    },
    {
     "name": "stdout",
     "output_type": "stream",
     "text": [
      "INFO:tensorflow:Assets written to: model3\\assets\n"
     ]
    },
    {
     "name": "stderr",
     "output_type": "stream",
     "text": [
      "INFO:tensorflow:Assets written to: model3\\assets\n"
     ]
    },
    {
     "name": "stdout",
     "output_type": "stream",
     "text": [
      "500/500 [==============================] - 2901s 6s/step - loss: 10552.1543 - val_loss: 2562.2205\n",
      "Epoch 19/20\n",
      "500/500 [==============================] - ETA: 0s - loss: 9726.1719"
     ]
    },
    {
     "name": "stderr",
     "output_type": "stream",
     "text": [
      "WARNING:absl:Found untraced functions such as _update_step_xla, lstm_cell_layer_call_fn, lstm_cell_layer_call_and_return_conditional_losses, lstm_cell_1_layer_call_fn, lstm_cell_1_layer_call_and_return_conditional_losses while saving (showing 5 of 5). These functions will not be directly callable after loading.\n"
     ]
    },
    {
     "name": "stdout",
     "output_type": "stream",
     "text": [
      "INFO:tensorflow:Assets written to: model3\\assets\n"
     ]
    },
    {
     "name": "stderr",
     "output_type": "stream",
     "text": [
      "INFO:tensorflow:Assets written to: model3\\assets\n"
     ]
    },
    {
     "name": "stdout",
     "output_type": "stream",
     "text": [
      "500/500 [==============================] - 2698s 5s/step - loss: 9726.1719 - val_loss: 2560.9656\n",
      "Epoch 20/20\n",
      "500/500 [==============================] - 2681s 5s/step - loss: 9451.1416 - val_loss: 2637.2012\n"
     ]
    }
   ],
   "source": [
    "from tensorflow.keras.callbacks import ModelCheckpoint\n",
    "from tensorflow.keras.models import load_model\n",
    "\n",
    "cp = ModelCheckpoint('model3/', save_best_only=True)\n",
    "model3.compile(optimizer='adam', loss='mse')\n",
    "model3.summary()\n",
    "\n",
    "history3 = model3.fit(X_train, Y_train, epochs=20, steps_per_epoch=500, validation_data=(X_test, Y_test), batch_size=64,callbacks=[cp])\n",
    "\n",
    "model3 = load_model('model3/')\n",
    "\n",
    "model3.save('model3.h5')"
   ]
  },
  {
   "cell_type": "code",
   "execution_count": 7,
   "metadata": {},
   "outputs": [
    {
     "name": "stdout",
     "output_type": "stream",
     "text": [
      "95/95 [==============================] - 34s 333ms/step\n",
      "Test loss: 2560.9658203125\n",
      "Mean Absolute Error: 32.1306613812626\n",
      "Mean Squared Error: 2560.9656014239763\n",
      "Explained Variance Score: 0.6431708865463263\n"
     ]
    },
    {
     "data": {
      "image/png": "[encoded data removed]",
      "text/plain": [
       "<Figure size 640x480 with 1 Axes>"
      ]
     },
     "metadata": {},
     "output_type": "display_data"
    }
   ],
   "source": [
    "predictions3 = model3.predict(X_test)\n",
    "result3 = model3.evaluate(X_test, Y_test, verbose=0)\n",
    "print(f\"Test loss: {result3}\")\n",
    "\n",
    "mae3 = mean_absolute_error(Y_test, predictions3)\n",
    "print(f\"Mean Absolute Error: {mae3}\")\n",
    "\n",
    "mse3 = mean_squared_error(Y_test, predictions3)\n",
    "print(f\"Mean Squared Error: {mse3}\")\n",
    "\n",
    "evs3 = explained_variance_score(Y_test, predictions3)\n",
    "print(f\"Explained Variance Score: {evs3}\")\n",
    "\n",
    "plt.plot(Y_test, label='True values')\n",
    "plt.plot(predictions3, label='Predictions')\n",
    "plt.legend()\n",
    "plt.show()"
   ]
  }
 ],
 "metadata": {
  "kernelspec": {
   "display_name": "projektRIRSU",
   "language": "python",
   "name": "python3"
  },
  "language_info": {
   "codemirror_mode": {
    "name": "ipython",
    "version": 3
   },
   "file_extension": ".py",
   "mimetype": "text/x-python",
   "name": "python",
   "nbconvert_exporter": "python",
   "pygments_lexer": "ipython3",
   "version": "3.9.16"
  },
  "orig_nbformat": 4,
  "vscode": {
   "interpreter": {
    "hash": "c33ade039063ef4594a6966605839d5d3050ce4b8c2ddf941fca2329938280eb"
   }
  }
 },
 "nbformat": 4,
 "nbformat_minor": 2
}
